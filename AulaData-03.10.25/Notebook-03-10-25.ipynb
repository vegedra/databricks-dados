{
 "cells": [
  {
   "cell_type": "code",
   "execution_count": 0,
   "metadata": {
    "application/vnd.databricks.v1+cell": {
     "cellMetadata": {
      "byteLimit": 2048000,
      "rowLimit": 10000
     },
     "inputWidgets": {},
     "nuid": "dcfe9fcd-9bb0-4bd8-9837-fe964aefd28b",
     "showTitle": false,
     "tableResultSettingsMap": {},
     "title": ""
    }
   },
   "outputs": [],
   "source": [
    "from pyspark.sql import SparkSession\n",
    "\n",
    "# Cria a sessão do Spark\n",
    "spark = SparkSession.builder.appName(\"AulaSpark\").getOrCreate()"
   ]
  },
  {
   "cell_type": "code",
   "execution_count": 0,
   "metadata": {
    "application/vnd.databricks.v1+cell": {
     "cellMetadata": {
      "byteLimit": 2048000,
      "rowLimit": 10000
     },
     "inputWidgets": {},
     "nuid": "d10051af-8563-4e28-b11f-43b453104e74",
     "showTitle": false,
     "tableResultSettingsMap": {},
     "title": ""
    }
   },
   "outputs": [],
   "source": [
    "# Criação do data set\n",
    "import numpy as np      # Cria amostra e analises estatisticas\n",
    "import pandas as pd     # Usado para estruturação\n",
    "\n",
    "# Cria amostra aleatoria com uma semente\n",
    "np.random.seed(42)\n",
    "N = 1000000\n",
    "\n",
    "nomes = [\"Pedro\", \"Gabrielle\", \"Bunster\", \"Kauã\", \"Ana\", \n",
    "         \"Henrique\", \"Erica\", \"Kaio\", \"Fernanda\", \"Isabella\"]\n",
    "\n",
    "paises = [\"Brasil\", \"EUA\", \"Japão\", \"Australia\"]\n",
    "\n",
    "data = pd.DataFrame({\n",
    "    \"id\": np.arange(1, N+1),\n",
    "    \"nome\": np.random.choice(nomes, N),\n",
    "    \"pais\": np.random.choice(paises, N),\n",
    "    \"idade\": np.random.randint(18, 65, N),\n",
    "    \"salario\": np.random.randint(2000, 20000, N),\n",
    "    \"bonus\": np.random.randint(0, 2, N)\n",
    "})\n",
    "\n",
    "df = spark.createDataFrame(data)\n",
    "display(df)"
   ]
  },
  {
   "cell_type": "code",
   "execution_count": 0,
   "metadata": {
    "application/vnd.databricks.v1+cell": {
     "cellMetadata": {
      "byteLimit": 2048000,
      "rowLimit": 10000
     },
     "inputWidgets": {},
     "nuid": "8c654089-6c04-4829-a853-9599ce29f4c0",
     "showTitle": false,
     "tableResultSettingsMap": {},
     "title": ""
    }
   },
   "outputs": [],
   "source": [
    "# Explorando o dataframe\n",
    "display(df.limit(10))   # Exibe 10 colunas aleatorias"
   ]
  },
  {
   "cell_type": "code",
   "execution_count": 0,
   "metadata": {
    "application/vnd.databricks.v1+cell": {
     "cellMetadata": {
      "byteLimit": 2048000,
      "rowLimit": 10000
     },
     "inputWidgets": {},
     "nuid": "e3307090-495f-49b9-8944-a5fa22754127",
     "showTitle": false,
     "tableResultSettingsMap": {},
     "title": ""
    }
   },
   "outputs": [],
   "source": [
    "# Analisa a schema de cada coluna\n",
    "df.printSchema()"
   ]
  },
  {
   "cell_type": "code",
   "execution_count": 0,
   "metadata": {
    "application/vnd.databricks.v1+cell": {
     "cellMetadata": {
      "byteLimit": 2048000,
      "rowLimit": 10000
     },
     "inputWidgets": {},
     "nuid": "a7b650b3-b076-45b4-ac0e-72a2b5fde44e",
     "showTitle": false,
     "tableResultSettingsMap": {},
     "title": ""
    }
   },
   "outputs": [],
   "source": [
    "# Descreve as colunas descritas\n",
    "df.describe([\"idade\", \"salario\", \"bonus\"]).show()"
   ]
  },
  {
   "cell_type": "code",
   "execution_count": 0,
   "metadata": {
    "application/vnd.databricks.v1+cell": {
     "cellMetadata": {
      "byteLimit": 2048000,
      "rowLimit": 10000
     },
     "inputWidgets": {},
     "nuid": "7af639d3-109e-4b28-9968-9eb447c9d2c6",
     "showTitle": false,
     "tableResultSettingsMap": {},
     "title": ""
    }
   },
   "outputs": [],
   "source": [
    "from pyspark.sql.functions import avg, max, min, desc"
   ]
  },
  {
   "cell_type": "code",
   "execution_count": 0,
   "metadata": {
    "application/vnd.databricks.v1+cell": {
     "cellMetadata": {
      "byteLimit": 2048000,
      "rowLimit": 10000
     },
     "inputWidgets": {},
     "nuid": "0dee6552-0cf6-4ed1-8c74-ebf1d06cf985",
     "showTitle": false,
     "tableResultSettingsMap": {},
     "title": ""
    }
   },
   "outputs": [],
   "source": [
    "df.groupBy(\"pais\").agg(\n",
    "    avg(\"salario\").alias(\"media_salario\"),\n",
    "    max(\"salario\").alias(\"max_salario\"),\n",
    "    min(\"salario\").alias(\"min_salario\")\n",
    ").orderBy(desc(\"media_salario\")).show()"
   ]
  },
  {
   "cell_type": "code",
   "execution_count": 0,
   "metadata": {
    "application/vnd.databricks.v1+cell": {
     "cellMetadata": {
      "byteLimit": 2048000,
      "rowLimit": 10000
     },
     "inputWidgets": {},
     "nuid": "179d8167-7ab2-456e-aedc-b5959d558249",
     "showTitle": false,
     "tableResultSettingsMap": {},
     "title": ""
    }
   },
   "outputs": [],
   "source": [
    "df.orderBy(desc(\"salario\")).show(10)"
   ]
  },
  {
   "cell_type": "code",
   "execution_count": 0,
   "metadata": {
    "application/vnd.databricks.v1+cell": {
     "cellMetadata": {
      "byteLimit": 2048000,
      "rowLimit": 10000
     },
     "inputWidgets": {},
     "nuid": "bd934917-5dcd-4b27-a9ef-2fd82c758ef9",
     "showTitle": false,
     "tableResultSettingsMap": {},
     "title": ""
    }
   },
   "outputs": [],
   "source": [
    "# Para usar SQL com python - cria a tabela e usa os comandos\n",
    "df.createOrReplaceTempView(\"funcionarios\")\n",
    "\n",
    "spark.sql(\"\"\"\n",
    "    SELECT pais,\n",
    "    COUNT(*) AS qtde_func,\n",
    "    ROUND(AVG(salario), 2) as media_salario,\n",
    "    ROUND(SUM(salario), 2) as folha_total\n",
    "    FROM funcionarios\n",
    "    GROUP BY pais\n",
    "    ORDER BY folha_total DESC\n",
    "\"\"\").show()"
   ]
  },
  {
   "cell_type": "code",
   "execution_count": 0,
   "metadata": {
    "application/vnd.databricks.v1+cell": {
     "cellMetadata": {
      "byteLimit": 2048000,
      "implicitDf": true,
      "rowLimit": 10000
     },
     "inputWidgets": {},
     "nuid": "67e453a1-d4ef-41ef-9db4-49a8bfafdc00",
     "showTitle": false,
     "tableResultSettingsMap": {},
     "title": ""
    }
   },
   "outputs": [],
   "source": [
    "%sql\n",
    "SELECT COUNT(*) AS qtde_func,\n",
    "  ROUND(AVG(salario), 2) as media_salario,\n",
    "  ROUND(SUM(salario), 2) as folha_total\n",
    "FROM funcionarios\n",
    "GROUP BY pais\n",
    "ORDER BY folha_total DESC"
   ]
  },
  {
   "cell_type": "code",
   "execution_count": 0,
   "metadata": {
    "application/vnd.databricks.v1+cell": {
     "cellMetadata": {
      "byteLimit": 2048000,
      "rowLimit": 10000
     },
     "inputWidgets": {},
     "nuid": "54f79e1c-ee3a-432c-8b94-05f38a76d2d7",
     "showTitle": false,
     "tableResultSettingsMap": {},
     "title": ""
    }
   },
   "outputs": [],
   "source": [
    "# Criação de gráficos (pandas e matplotlib)\n",
    "\n",
    "import matplotlib.pyplot as plt\n",
    "\n",
    "df_pd = df.groupBy(\"pais\").agg(avg(\"salario\").alias(\"media_salario\")).toPandas()\n",
    "df_pd.plot(kind=\"bar\", x=\"pais\", y=\"media_salario\", legend = False)\n",
    "plt.ylabel(\"Salario medio\")\n",
    "plt.title(\"Salario medio por pais\")\n",
    "plt.show()"
   ]
  }
 ],
 "metadata": {
  "application/vnd.databricks.v1+notebook": {
   "computePreferences": null,
   "dashboards": [],
   "environmentMetadata": {
    "base_environment": "",
    "environment_version": "3"
   },
   "inputWidgetPreferences": null,
   "language": "python",
   "notebookMetadata": {
    "mostRecentlyExecutedCommandWithImplicitDF": {
     "commandId": 5630408924479882,
     "dataframes": [
      "_sqldf"
     ]
    },
    "pythonIndentUnit": 4
   },
   "notebookName": "Notebook-03-10-25",
   "widgets": {}
  },
  "language_info": {
   "name": "python"
  }
 },
 "nbformat": 4,
 "nbformat_minor": 0
}
